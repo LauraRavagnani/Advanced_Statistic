{
 "cells": [
  {
   "cell_type": "code",
   "execution_count": 1,
   "id": "a0558f10",
   "metadata": {},
   "outputs": [],
   "source": [
    "# function that picks random arrival time in minutes from 10:45 : 0 -> 10:45, 60 -> 11.45\n",
    "arrival_time <- function(n_people){\n",
    "    x <- c(round(runif(n_people, 0, 60),0))\n",
    "    return(x)\n",
    "}"
   ]
  },
  {
   "cell_type": "code",
   "execution_count": 2,
   "id": "14395f2b",
   "metadata": {},
   "outputs": [],
   "source": [
    "# time of scheduled trains in minutes from 10:45 : 15 -> 11:00 train, 45 -> 11:30 train, 75 -> 12:00 train\n",
    "sched_time <- c(15, 45, 75)"
   ]
  },
  {
   "cell_type": "code",
   "execution_count": 3,
   "id": "de3b77a3",
   "metadata": {},
   "outputs": [],
   "source": [
    "# function that calculates the waiting time in minutes\n",
    "waiting_time <- function(n_people){\n",
    "    wait <- rep(0, n_people)\n",
    "    arrival <- arrival_time(n_people)\n",
    "\n",
    "    for(i in 1:n_people){\n",
    "        if(arrival[i] <= sched_time[1]){\n",
    "            wait[i] <- sched_time[1] - arrival[i]\n",
    "        } else if(arrival[i] > sched_time[1] && arrival[i] <= sched_time[2]){\n",
    "            wait[i] <- sched_time[2] - arrival[i]\n",
    "        } else {\n",
    "            wait[i] <- sched_time[3] - arrival[i]\n",
    "        }\n",
    "    }\n",
    "    return(wait)\n",
    "}"
   ]
  },
  {
   "cell_type": "code",
   "execution_count": 11,
   "id": "d328bdbd",
   "metadata": {},
   "outputs": [
    {
     "data": {
      "text/html": [
       "<table class=\"dataframe\">\n",
       "<caption>A data.frame: 6 × 2</caption>\n",
       "<thead>\n",
       "\t<tr><th></th><th scope=col>Waiting_time</th><th scope=col>Freq</th></tr>\n",
       "\t<tr><th></th><th scope=col>&lt;dbl&gt;</th><th scope=col>&lt;int&gt;</th></tr>\n",
       "</thead>\n",
       "<tbody>\n",
       "\t<tr><th scope=row>1</th><td>1</td><td>32</td></tr>\n",
       "\t<tr><th scope=row>2</th><td>2</td><td>27</td></tr>\n",
       "\t<tr><th scope=row>3</th><td>3</td><td>27</td></tr>\n",
       "\t<tr><th scope=row>4</th><td>4</td><td>29</td></tr>\n",
       "\t<tr><th scope=row>5</th><td>5</td><td>28</td></tr>\n",
       "\t<tr><th scope=row>6</th><td>6</td><td>31</td></tr>\n",
       "</tbody>\n",
       "</table>\n"
      ],
      "text/latex": [
       "A data.frame: 6 × 2\n",
       "\\begin{tabular}{r|ll}\n",
       "  & Waiting\\_time & Freq\\\\\n",
       "  & <dbl> & <int>\\\\\n",
       "\\hline\n",
       "\t1 & 1 & 32\\\\\n",
       "\t2 & 2 & 27\\\\\n",
       "\t3 & 3 & 27\\\\\n",
       "\t4 & 4 & 29\\\\\n",
       "\t5 & 5 & 28\\\\\n",
       "\t6 & 6 & 31\\\\\n",
       "\\end{tabular}\n"
      ],
      "text/markdown": [
       "\n",
       "A data.frame: 6 × 2\n",
       "\n",
       "| <!--/--> | Waiting_time &lt;dbl&gt; | Freq &lt;int&gt; |\n",
       "|---|---|---|\n",
       "| 1 | 1 | 32 |\n",
       "| 2 | 2 | 27 |\n",
       "| 3 | 3 | 27 |\n",
       "| 4 | 4 | 29 |\n",
       "| 5 | 5 | 28 |\n",
       "| 6 | 6 | 31 |\n",
       "\n"
      ],
      "text/plain": [
       "  Waiting_time Freq\n",
       "1 1            32  \n",
       "2 2            27  \n",
       "3 3            27  \n",
       "4 4            29  \n",
       "5 5            28  \n",
       "6 6            31  "
      ]
     },
     "metadata": {},
     "output_type": "display_data"
    }
   ],
   "source": [
    "library(\"dplyr\")\n",
    "\n",
    "# create a dataframe with the waiting time and the frequency\n",
    "df <- as.data.frame(table(waiting_time(1000)))\n",
    "df <- df %>% rename(\"Waiting_time\" = \"Var1\")\n",
    "df$Waiting_time <- as.numeric(df$Waiting_time)\n",
    "\n",
    "head(df)"
   ]
  },
  {
   "cell_type": "code",
   "execution_count": 14,
   "id": "66239cf5",
   "metadata": {},
   "outputs": [
    {
     "name": "stdout",
     "output_type": "stream",
     "text": [
      "The probability that a person has to wait at most 10 minutes is:  30.4 % \n"
     ]
    }
   ],
   "source": [
    "# a)\n",
    "# function that calculates the probability that has to wait at most 10 minutes\n",
    "max_10 <- function(n_people){\n",
    "    a <- with(df, sum(Freq[Waiting_time <= 10]))/n_people\n",
    "    return(a)\n",
    "}\n",
    "\n",
    "cat(paste(\"The probability that a person has to wait at most 10 minutes is:\", max_10(1000) * 100, \"%\", '\\n'))"
   ]
  },
  {
   "cell_type": "code",
   "execution_count": 15,
   "id": "c561f707",
   "metadata": {},
   "outputs": [
    {
     "name": "stdout",
     "output_type": "stream",
     "text": [
      "The probability that a person has to wait at least 15 minutes is:  55.2 % \n"
     ]
    }
   ],
   "source": [
    "# b)\n",
    "# function that calculates the probability that has to wait at least 15 minutes\n",
    "min_15 <- function(n_people){\n",
    "    b <- with(df, sum(Freq[Waiting_time >= 15]))/n_people\n",
    "    return(b)\n",
    "}\n",
    "\n",
    "cat(paste(\"The probability that a person has to wait at least 15 minutes is:\", min_15(1000) * 100, \"%\", '\\n'))"
   ]
  },
  {
   "cell_type": "code",
   "execution_count": 18,
   "id": "1564e27c",
   "metadata": {},
   "outputs": [
    {
     "name": "stdout",
     "output_type": "stream",
     "text": [
      "The average time spent waiting is: 14.61 minutes \n"
     ]
    }
   ],
   "source": [
    "# c)\n",
    "# function that calculates the average time spent waiting\n",
    "average_time <- function(n_people){\n",
    "    c <- sum(waiting_time(n_people))/n_people\n",
    "    return(c)\n",
    "}\n",
    "\n",
    "cat(paste(\"The average time spent waiting is:\", round(average_time(1000), 2), \"minutes\", '\\n'))"
   ]
  }
 ],
 "metadata": {
  "kernelspec": {
   "display_name": "R",
   "language": "R",
   "name": "ir"
  },
  "language_info": {
   "codemirror_mode": "r",
   "file_extension": ".r",
   "mimetype": "text/x-r-source",
   "name": "R",
   "pygments_lexer": "r",
   "version": "4.2.2"
  }
 },
 "nbformat": 4,
 "nbformat_minor": 5
}
