{
 "cells": [
  {
   "cell_type": "code",
   "execution_count": 1,
   "id": "5c8ccb41",
   "metadata": {},
   "outputs": [],
   "source": [
    "# probability that a student knows the answer\n",
    "p <- 0.7"
   ]
  },
  {
   "cell_type": "code",
   "execution_count": 2,
   "id": "99d932b7",
   "metadata": {},
   "outputs": [],
   "source": [
    "# function to simulate\n",
    "# n_student: number of students for the simulation\n",
    "simul <- function(n_students){\n",
    "    student <- c(rep(\"K\", n_students * p), rep(\"R\", n_students * (1 - p)))\n",
    "    ans <- rep(0, n_students)\n",
    "\n",
    "    for(i in 1:n_students){\n",
    "        if(student[i] == \"K\"){\n",
    "            ans[i] <- 0\n",
    "            }\n",
    "        else{\n",
    "            ans[i] <- round(runif(n=1, min=1, max=5), 0)\n",
    "            }  \n",
    "        }\n",
    "    return(ans)\n",
    "}"
   ]
  },
  {
   "cell_type": "code",
   "execution_count": 4,
   "id": "77d76f62",
   "metadata": {},
   "outputs": [
    {
     "data": {
      "text/html": [
       "<table class=\"dataframe\">\n",
       "<caption>A data.frame: 6 × 2</caption>\n",
       "<thead>\n",
       "\t<tr><th scope=col>Var1</th><th scope=col>Freq</th></tr>\n",
       "\t<tr><th scope=col>&lt;fct&gt;</th><th scope=col>&lt;int&gt;</th></tr>\n",
       "</thead>\n",
       "<tbody>\n",
       "\t<tr><td>0</td><td>700</td></tr>\n",
       "\t<tr><td>1</td><td> 39</td></tr>\n",
       "\t<tr><td>2</td><td> 89</td></tr>\n",
       "\t<tr><td>3</td><td> 67</td></tr>\n",
       "\t<tr><td>4</td><td> 60</td></tr>\n",
       "\t<tr><td>5</td><td> 45</td></tr>\n",
       "</tbody>\n",
       "</table>\n"
      ],
      "text/latex": [
       "A data.frame: 6 × 2\n",
       "\\begin{tabular}{ll}\n",
       " Var1 & Freq\\\\\n",
       " <fct> & <int>\\\\\n",
       "\\hline\n",
       "\t 0 & 700\\\\\n",
       "\t 1 &  39\\\\\n",
       "\t 2 &  89\\\\\n",
       "\t 3 &  67\\\\\n",
       "\t 4 &  60\\\\\n",
       "\t 5 &  45\\\\\n",
       "\\end{tabular}\n"
      ],
      "text/markdown": [
       "\n",
       "A data.frame: 6 × 2\n",
       "\n",
       "| Var1 &lt;fct&gt; | Freq &lt;int&gt; |\n",
       "|---|---|\n",
       "| 0 | 700 |\n",
       "| 1 |  39 |\n",
       "| 2 |  89 |\n",
       "| 3 |  67 |\n",
       "| 4 |  60 |\n",
       "| 5 |  45 |\n",
       "\n"
      ],
      "text/plain": [
       "  Var1 Freq\n",
       "1 0    700 \n",
       "2 1     39 \n",
       "3 2     89 \n",
       "4 3     67 \n",
       "5 4     60 \n",
       "6 5     45 "
      ]
     },
     "metadata": {},
     "output_type": "display_data"
    }
   ],
   "source": [
    "# 0 -> student that knows the answer\n",
    "# 1 -> student that picks randomly the right answer \n",
    "df <- as.data.frame(table(simul(1000)))\n",
    "\n",
    "df"
   ]
  },
  {
   "cell_type": "code",
   "execution_count": 7,
   "id": "fac2ed8f",
   "metadata": {},
   "outputs": [
    {
     "name": "stdout",
     "output_type": "stream",
     "text": [
      "The probability that the student really knew the correct answer, once a correct answer is given is: 94.72 % \n"
     ]
    }
   ],
   "source": [
    "probability <- df$Freq[1] / (df$Freq[1] + df$Freq[2])\n",
    "\n",
    "cat(paste(\"The probability that the student really knew the correct answer, once a correct answer is given is:\", round(probability * 100, 2), \"%\", '\\n'))"
   ]
  }
 ],
 "metadata": {
  "kernelspec": {
   "display_name": "R",
   "language": "R",
   "name": "ir"
  },
  "language_info": {
   "codemirror_mode": "r",
   "file_extension": ".r",
   "mimetype": "text/x-r-source",
   "name": "R",
   "pygments_lexer": "r",
   "version": "4.2.2"
  }
 },
 "nbformat": 4,
 "nbformat_minor": 5
}
